{
 "cells": [
  {
   "cell_type": "markdown",
   "metadata": {},
   "source": [
    "## Проект: вариант 1\n",
    "Представьте, что вы работаете в компании, которая разрабатывает мобильные игры. К вам пришел менеджер с рядом задач по исследованию нескольких аспектов мобильного приложения:\n",
    "\n",
    "1) В первую очередь, его интересует показатель retention. Напишите функцию для его подсчета.\n",
    "\n",
    "2) Помимо этого, в компании провели A/B тестирование наборов акционных предложений. На основе имеющихся данных определите, какой набор можно считать лучшим и на основе каких метрик стоит принять правильное решение.\n",
    "\n",
    "3) Предложите метрики для оценки результатов последнего прошедшего тематического события в игре."
   ]
  },
  {
   "cell_type": "code",
   "execution_count": 1,
   "metadata": {},
   "outputs": [],
   "source": [
    "# Импорт библиотек\n",
    "\n",
    "import pandas as pd\n",
    "import numpy as np\n",
    "import matplotlib.pyplot as plt\n",
    "import seaborn as sns\n",
    "from scipy.stats import norm\n",
    "\n",
    "from tqdm.auto import tqdm\n",
    "\n",
    "plt.style.use('ggplot')"
   ]
  },
  {
   "cell_type": "markdown",
   "metadata": {},
   "source": [
    "## Задание 1"
   ]
  },
  {
   "cell_type": "markdown",
   "metadata": {},
   "source": [
    "**Retention** – один из самых важных показателей в компании. Ваша задача – написать функцию, которая будет считать retention игроков (по дням от даты регистрации игрока)."
   ]
  },
  {
   "cell_type": "markdown",
   "metadata": {},
   "source": [
    "**Описание данных**\n",
    "\n",
    "Файл *problem1-reg_data.csv* - данные о регистрации пользователей\n",
    "\n",
    "**uid** - уникальный идентификатор пользователя\n",
    "\n",
    "**reg_ts** - время регистрации пользователя (в формате TimeStamp)\n",
    "\n",
    "Файл *problem1-auth_data.csv* - данные о регистрации пользователей\n",
    "\n",
    "**uid** - уникальный идентификатор пользователя\n",
    "\n",
    "**auth_ts** - время входа пользователя - уже зарегистрированных (в формате TimeStamp)"
   ]
  },
  {
   "cell_type": "markdown",
   "metadata": {},
   "source": [
    "В качестве retention будем рассчитывать средневзвешенный N-day retention, чтобы учесть различное количество пользователей в когортах"
   ]
  },
  {
   "cell_type": "code",
   "execution_count": 2,
   "metadata": {},
   "outputs": [],
   "source": [
    "# Функция расчета средневзвешенного N-day Retention\n",
    "# Функция принимает как полные исходные датасеты, так и семплы\n",
    "# В подаваемых датафреймах не должно быть пропусков\n",
    "\n",
    "\n",
    "def n_day_retention_weighted(reg_df,\n",
    "                             # Датафрейм с информацией по регистрации пользователей(столбцы: reg_ts(int), uid(int))\n",
    "                             auth_df,\n",
    "                             # Датафрейм с информацией по авторизации пользователей(столбцы: auth_ts(int), uid(int))\n",
    "                             n_day  # День, за который необходимо посчитать Retention. Формат - str!!!\n",
    "                             ):\n",
    "    # В датафрейме регистраций создаем столбец со временем в формате dt и столбец с принадлежностью uid к когорте\n",
    "    reg_df['reg_dt'] = pd.to_datetime(reg_df.reg_ts, unit='s').dt.date\n",
    "    reg_df['cohort'] = pd.to_datetime(reg_df.reg_ts, unit='s').dt.date\n",
    "\n",
    "    # В датафрейме авторизации создаем столбец с временем в формате datetime\n",
    "    auth_df['auth_dt'] = pd.to_datetime(auth_df.auth_ts, unit='s').dt.date\n",
    "\n",
    "    # Проставим в датафрейме авторизаций когорты, к которым относятся авторизации\n",
    "    # Авторизации, у которых отсутствуют даты регистрации будут отброшены (актуально при использовании семплов)\n",
    "    df_merged = auth_df.merge(reg_df, how='inner', on='uid')\n",
    "\n",
    "    # Оставим только уникальные авторизации пользователей за каждый день, \n",
    "    # т.к. повторный заход в игру  за день будет приводить к некорректному расчету retention\n",
    "    df_merged_clr = df_merged.drop_duplicates(subset=['uid', 'auth_dt'])\n",
    "\n",
    "    # Создадим столбец с разницей между датой регистрации и авторизации (также переведем в формат str)\n",
    "    df_merged_clr['date_diff'] = (pd.to_datetime(df_merged_clr.auth_dt) - pd.to_datetime(df_merged_clr.reg_dt)) \\\n",
    "        .dt.days.astype('str')\n",
    "\n",
    "    # Произведем группировку по когорте и date_diff, с подсчетом пользователей внутри каждой группы\n",
    "    df_merged_grouped = df_merged_clr.groupby(['cohort', 'date_diff'], as_index=False) \\\n",
    "        .agg({'uid': 'count'}) \\\n",
    "        .rename(columns={'uid': 'uid_count'})\n",
    "\n",
    "    # Переведем сгруппированную таблицу в формат сводной таблицы. Также сбросим индекс получившейся таблицы\n",
    "    ret_pivot = df_merged_grouped.pivot(index='cohort', columns='date_diff', values='uid_count') \\\n",
    "        .fillna(0) \\\n",
    "        .reset_index()\n",
    "    ret_pivot.columns.name = None\n",
    "\n",
    "    # Реализуем расчет средневзвешенного N-day Retention из сводной таблицы\n",
    "    n_day_ret_w = ((ret_pivot[n_day] / ret_pivot['0'] * 100 * ret_pivot['0']).sum() / ret_pivot['0'].sum()).round(2)\n",
    "\n",
    "    return n_day_ret_w"
   ]
  },
  {
   "cell_type": "code",
   "execution_count": 3,
   "metadata": {},
   "outputs": [],
   "source": [
    "# Загрузка данных из папки shared \n",
    "\n",
    "reg_df = pd.read_csv('/home/jupyter-k.repin-15/shared/problem1-reg_data.csv', sep=';')\n",
    "auth_df = pd.read_csv('/home/jupyter-k.repin-15/shared/problem1-auth_data.csv', sep=';')"
   ]
  },
  {
   "cell_type": "markdown",
   "metadata": {},
   "source": [
    "Проведем тестирование функции на семплах (предварительно зададим отсечку в формате Timestamp)"
   ]
  },
  {
   "cell_type": "code",
   "execution_count": 4,
   "metadata": {},
   "outputs": [],
   "source": [
    "# Тест на семплах\n",
    "\n",
    "point_ts = 1596229200  # В качестве отсечки возьмем дату 01.08.2020 00:00:00\n",
    "\n",
    "reg_df_sample = reg_df.loc[reg_df['reg_ts'] >= point_ts, reg_df.columns]\n",
    "auth_df_sample = auth_df.loc[auth_df['auth_ts'] >= point_ts, auth_df.columns]"
   ]
  },
  {
   "cell_type": "code",
   "execution_count": 5,
   "metadata": {},
   "outputs": [
    {
     "data": {
      "text/plain": [
       "4.31"
      ]
     },
     "execution_count": 5,
     "metadata": {},
     "output_type": "execute_result"
    }
   ],
   "source": [
    "# Посчитаем средневзвешенный Retention для 3-го дня на семплах\n",
    "\n",
    "n_day = '3'\n",
    "\n",
    "sample_retention = n_day_retention_weighted(reg_df_sample, auth_df_sample, n_day)\n",
    "sample_retention"
   ]
  },
  {
   "cell_type": "markdown",
   "metadata": {},
   "source": [
    "Как результат, получили средневзвешенный 3-day Retention для пользователей, зарегистрированных после временной отсечки 01.08.2020 00:00:00"
   ]
  },
  {
   "cell_type": "markdown",
   "metadata": {},
   "source": [
    "## Задание 2"
   ]
  },
  {
   "cell_type": "markdown",
   "metadata": {},
   "source": [
    "Имеются результаты A/B теста, в котором двум группам пользователей предлагались различные наборы акционных предложений. \n",
    "\n",
    "Известно, что ARPU в тестовой группе выше на 5%, чем в контрольной. При этом в контрольной группе 1928 игроков из 202103 оказались платящими, а в тестовой – 1805 из 202667.\n",
    "\n",
    "Какой набор предложений можно считать лучшим? Какие метрики стоит проанализировать для принятия правильного решения и как?"
   ]
  },
  {
   "cell_type": "markdown",
   "metadata": {},
   "source": [
    "#### Загрузка данных"
   ]
  },
  {
   "cell_type": "code",
   "execution_count": 6,
   "metadata": {},
   "outputs": [],
   "source": [
    "# Загрузка данных с яндекс-диска по ссылке\n",
    "\n",
    "download_url = 'https://getfile.dokpub.com/yandex/get/https://disk.yandex.ru/d/12gk_ATEeBZm4A'\n",
    "\n",
    "df = pd.read_csv(download_url, sep=';')"
   ]
  },
  {
   "cell_type": "code",
   "execution_count": 7,
   "metadata": {},
   "outputs": [
    {
     "data": {
      "text/html": [
       "<div>\n",
       "<style scoped>\n",
       "    .dataframe tbody tr th:only-of-type {\n",
       "        vertical-align: middle;\n",
       "    }\n",
       "\n",
       "    .dataframe tbody tr th {\n",
       "        vertical-align: top;\n",
       "    }\n",
       "\n",
       "    .dataframe thead th {\n",
       "        text-align: right;\n",
       "    }\n",
       "</style>\n",
       "<table border=\"1\" class=\"dataframe\">\n",
       "  <thead>\n",
       "    <tr style=\"text-align: right;\">\n",
       "      <th></th>\n",
       "      <th>user_id</th>\n",
       "      <th>revenue</th>\n",
       "      <th>testgroup</th>\n",
       "    </tr>\n",
       "  </thead>\n",
       "  <tbody>\n",
       "    <tr>\n",
       "      <th>0</th>\n",
       "      <td>1</td>\n",
       "      <td>0</td>\n",
       "      <td>b</td>\n",
       "    </tr>\n",
       "    <tr>\n",
       "      <th>1</th>\n",
       "      <td>2</td>\n",
       "      <td>0</td>\n",
       "      <td>a</td>\n",
       "    </tr>\n",
       "    <tr>\n",
       "      <th>2</th>\n",
       "      <td>3</td>\n",
       "      <td>0</td>\n",
       "      <td>a</td>\n",
       "    </tr>\n",
       "    <tr>\n",
       "      <th>3</th>\n",
       "      <td>4</td>\n",
       "      <td>0</td>\n",
       "      <td>b</td>\n",
       "    </tr>\n",
       "    <tr>\n",
       "      <th>4</th>\n",
       "      <td>5</td>\n",
       "      <td>0</td>\n",
       "      <td>b</td>\n",
       "    </tr>\n",
       "  </tbody>\n",
       "</table>\n",
       "</div>"
      ],
      "text/plain": [
       "   user_id  revenue testgroup\n",
       "0        1        0         b\n",
       "1        2        0         a\n",
       "2        3        0         a\n",
       "3        4        0         b\n",
       "4        5        0         b"
      ]
     },
     "execution_count": 7,
     "metadata": {},
     "output_type": "execute_result"
    }
   ],
   "source": [
    "df.head()"
   ]
  },
  {
   "cell_type": "code",
   "execution_count": 8,
   "metadata": {},
   "outputs": [
    {
     "data": {
      "text/plain": [
       "True"
      ]
     },
     "execution_count": 8,
     "metadata": {},
     "output_type": "execute_result"
    }
   ],
   "source": [
    "# Проверка уникальности пользователей в датафрейме\n",
    "\n",
    "df.user_id.count() == df.shape[0]"
   ]
  },
  {
   "cell_type": "markdown",
   "metadata": {},
   "source": [
    "Все пользователи в датафрейме уникальны, повторных покупок совершено не было. Проверим утверждение про разницу ARPU в двух группах."
   ]
  },
  {
   "cell_type": "code",
   "execution_count": 9,
   "metadata": {},
   "outputs": [
    {
     "data": {
      "text/html": [
       "<div>\n",
       "<style scoped>\n",
       "    .dataframe tbody tr th:only-of-type {\n",
       "        vertical-align: middle;\n",
       "    }\n",
       "\n",
       "    .dataframe tbody tr th {\n",
       "        vertical-align: top;\n",
       "    }\n",
       "\n",
       "    .dataframe thead th {\n",
       "        text-align: right;\n",
       "    }\n",
       "</style>\n",
       "<table border=\"1\" class=\"dataframe\">\n",
       "  <thead>\n",
       "    <tr style=\"text-align: right;\">\n",
       "      <th></th>\n",
       "      <th>testgroup</th>\n",
       "      <th>user_count</th>\n",
       "      <th>ARPU</th>\n",
       "    </tr>\n",
       "  </thead>\n",
       "  <tbody>\n",
       "    <tr>\n",
       "      <th>0</th>\n",
       "      <td>a</td>\n",
       "      <td>202103</td>\n",
       "      <td>25.413720</td>\n",
       "    </tr>\n",
       "    <tr>\n",
       "      <th>1</th>\n",
       "      <td>b</td>\n",
       "      <td>202667</td>\n",
       "      <td>26.751287</td>\n",
       "    </tr>\n",
       "  </tbody>\n",
       "</table>\n",
       "</div>"
      ],
      "text/plain": [
       "  testgroup  user_count       ARPU\n",
       "0         a      202103  25.413720\n",
       "1         b      202667  26.751287"
      ]
     },
     "execution_count": 9,
     "metadata": {},
     "output_type": "execute_result"
    }
   ],
   "source": [
    "df.groupby('testgroup', as_index=False) \\\n",
    "  .agg({'user_id': 'count', 'revenue': 'mean'}) \\\n",
    "  .rename(columns={'user_id': 'user_count', 'revenue': 'ARPU'})"
   ]
  },
  {
   "cell_type": "markdown",
   "metadata": {},
   "source": [
    "В самом деле, разница между ARPU в группах 'a' и 'b' составляет 5%."
   ]
  },
  {
   "cell_type": "markdown",
   "metadata": {},
   "source": [
    "Приступим к определению лучшего набора предложений. Для начала посмотрим на характер распределения показателя Revenue в группах."
   ]
  },
  {
   "cell_type": "code",
   "execution_count": 10,
   "metadata": {},
   "outputs": [
    {
     "data": {
      "text/plain": [
       "((202103, 3), (202667, 3))"
      ]
     },
     "execution_count": 10,
     "metadata": {},
     "output_type": "execute_result"
    }
   ],
   "source": [
    "# Предварительно разделим наш датафрейм на два в соответствии с тестовыми группами\n",
    "a_df = df.query('testgroup == \"a\"')\n",
    "b_df = df.query('testgroup == \"b\"')\n",
    "\n",
    "# Проверим размеры выборок\n",
    "a_df.shape, b_df.shape"
   ]
  },
  {
   "cell_type": "code",
   "execution_count": 11,
   "metadata": {},
   "outputs": [
    {
     "data": {
      "image/png": "[encoded data removed]",
      "text/plain": [
       "<Figure size 576x288 with 1 Axes>"
      ]
     },
     "metadata": {},
     "output_type": "display_data"
    }
   ],
   "source": [
    "# Распределение \"revenue\" в группе a\n",
    "x_a = sns.displot(x='revenue', data=a_df, bins=100)\n",
    "x_a.fig.set_size_inches(8, 4)"
   ]
  },
  {
   "cell_type": "code",
   "execution_count": 12,
   "metadata": {},
   "outputs": [
    {
     "data": {
      "image/png": "[encoded data removed]",
      "text/plain": [
       "<Figure size 576x288 with 1 Axes>"
      ]
     },
     "metadata": {},
     "output_type": "display_data"
    }
   ],
   "source": [
    "# Распределение \"revenue\" в группе 'a' по платящим пользователям\n",
    "x_a = sns.displot(x='revenue', data=a_df.query('revenue != 0'), bins=50)\n",
    "x_a.fig.set_size_inches(8, 4)"
   ]
  },
  {
   "cell_type": "markdown",
   "metadata": {},
   "source": [
    "Как видим распределение признака revenue в группе \"а\" сильно неравномерно. Если взять только ненулевые значения, ты мы увидим, что значения разделяются на две группы: множество малых значений, а также сильно большие значения."
   ]
  },
  {
   "cell_type": "code",
   "execution_count": 13,
   "metadata": {},
   "outputs": [
    {
     "data": {
      "image/png": "[encoded data removed]",
      "text/plain": [
       "<Figure size 576x288 with 1 Axes>"
      ]
     },
     "metadata": {},
     "output_type": "display_data"
    }
   ],
   "source": [
    "# Распределение \"revenue\" в группе 'b'\n",
    "x_b = sns.displot(x='revenue', data=b_df, bins=100)\n",
    "x_b.fig.set_size_inches(8, 4)"
   ]
  },
  {
   "cell_type": "code",
   "execution_count": 14,
   "metadata": {},
   "outputs": [
    {
     "data": {
      "image/png": "[encoded data removed]",
      "text/plain": [
       "<Figure size 360x360 with 1 Axes>"
      ]
     },
     "metadata": {},
     "output_type": "display_data"
    }
   ],
   "source": [
    "# Распределение \"revenue\" в группе 'b' по платящим пользователям\n",
    "x_b = sns.displot(x='revenue', data=b_df.query('revenue != 0'), bins=50)"
   ]
  },
  {
   "cell_type": "markdown",
   "metadata": {},
   "source": [
    "В группе \"b\" напротив, все ненулевые значения сосредоточены в одном интервале 2000 - 4000"
   ]
  },
  {
   "cell_type": "markdown",
   "metadata": {},
   "source": [
    "#### Проверка стат. значимости различий среднего и медины значений revenue двух групп (среди платящих пользователей)"
   ]
  },
  {
   "cell_type": "code",
   "execution_count": 15,
   "metadata": {},
   "outputs": [],
   "source": [
    "# Оставим в группах только платящих пользователей\n",
    "a_df_pu = df.query('testgroup == \"a\" & revenue != 0')\n",
    "b_df_pu = df.query('testgroup == \"b\" & revenue != 0')"
   ]
  },
  {
   "cell_type": "markdown",
   "metadata": {},
   "source": [
    "Так как значения revenue в группе \"а\" сильно разбросаны, помимо проверки стат. значимых различий среднего значения в группах \"a\" и \"b\" имеет смысл также проверить стат. значимость различий медиан."
   ]
  },
  {
   "cell_type": "markdown",
   "metadata": {},
   "source": [
    "Т.к выборки в обеих группах имеют распределения далекие от нормального, оптимальным методом проверки стат. значимости различий среднего и медианы будет Bootstrap."
   ]
  },
  {
   "cell_type": "code",
   "execution_count": 16,
   "metadata": {},
   "outputs": [],
   "source": [
    "# Объявим функцию, которая позволит проверять гипотезы с помощью Bootstrap\n",
    "\n",
    "\n",
    "def get_bootstrap(\n",
    "        data_column_1,  # числовые значения первой выборки\n",
    "        data_column_2,  # числовые значения второй выборки\n",
    "        boot_it=1000,  # количество бутстрэп-подвыборок, по умолчанию 1000\n",
    "        statistic=np.mean,  # интересующая нас статистика, по умолчанию np.mean\n",
    "        bootstrap_conf_level=0.95  # уровень значимости, по умолчанию 0.95\n",
    "):\n",
    "    boot_len = max([len(data_column_1), len(data_column_2)])\n",
    "    boot_data = []\n",
    "    for i in tqdm(range(boot_it)):  # извлекаем подвыборки\n",
    "        samples_1 = data_column_1.sample(\n",
    "            boot_len,\n",
    "            replace=True  # параметр возвращения\n",
    "        ).values\n",
    "\n",
    "        samples_2 = data_column_2.sample(\n",
    "            boot_len,\n",
    "            replace=True\n",
    "        ).values\n",
    "\n",
    "        boot_data.append(statistic(samples_1) - statistic(samples_2))  # применяем статистику\n",
    "\n",
    "    pd_boot_data = pd.DataFrame(boot_data)\n",
    "\n",
    "    left_quant = (1 - bootstrap_conf_level) / 2\n",
    "    right_quant = 1 - (1 - bootstrap_conf_level) / 2\n",
    "    ci = pd_boot_data.quantile([left_quant, right_quant])\n",
    "\n",
    "    p_1 = norm.cdf(\n",
    "        x=0,\n",
    "        loc=np.mean(boot_data),\n",
    "        scale=np.std(boot_data)\n",
    "    )\n",
    "    p_2 = norm.cdf(\n",
    "        x=0,\n",
    "        loc=-np.mean(boot_data),\n",
    "        scale=np.std(boot_data)\n",
    "    )\n",
    "    p_value = min(p_1, p_2) * 2\n",
    "\n",
    "    # Визуализация\n",
    "    plt.hist(pd_boot_data[0], bins=50)\n",
    "\n",
    "    plt.style.use('ggplot')\n",
    "    plt.vlines(ci, ymin=0, ymax=50, linestyle='--')\n",
    "    plt.xlabel('boot_data')\n",
    "    plt.ylabel('frequency')\n",
    "    plt.title(\"Histogram of boot_data\")\n",
    "    plt.show()\n",
    "\n",
    "    return {\"boot_data\": boot_data,\n",
    "            \"ci\": ci,\n",
    "            \"p_value\": p_value}"
   ]
  },
  {
   "cell_type": "markdown",
   "metadata": {},
   "source": [
    "#### а) Применяем bootstrap со статистикой np.mean"
   ]
  },
  {
   "cell_type": "code",
   "execution_count": 17,
   "metadata": {},
   "outputs": [
    {
     "data": {
      "application/vnd.jupyter.widget-view+json": {
       "model_id": "0f85997d1b73478aa0c56e076ae23675",
       "version_major": 2,
       "version_minor": 0
      },
      "text/plain": [
       "HBox(children=(FloatProgress(value=0.0, max=4000.0), HTML(value='')))"
      ]
     },
     "metadata": {},
     "output_type": "display_data"
    },
    {
     "name": "stdout",
     "output_type": "stream",
     "text": [
      "\n"
     ]
    },
    {
     "data": {
      "image/png": "[encoded data removed]",
      "text/plain": [
       "<Figure size 432x288 with 1 Axes>"
      ]
     },
     "metadata": {},
     "output_type": "display_data"
    }
   ],
   "source": [
    "# результат записываем в словарь: вектор разницы двух распределений, доверительный интервал и p-value\n",
    "\n",
    "booted_data_dict = get_bootstrap(a_df_pu.revenue,  # revenue из группы \"a\"\n",
    "                                 b_df_pu.revenue,  # revenue из группы \"b\"\n",
    "                                 boot_it=4000,  # количество бутстрэп подвыборок\n",
    "                                 statistic=np.mean,  # в данном варианте считаем статистику np.mean\n",
    "                                 bootstrap_conf_level=0.95  # уровень значимости\n",
    "                                 )"
   ]
  },
  {
   "cell_type": "code",
   "execution_count": 18,
   "metadata": {},
   "outputs": [
    {
     "data": {
      "text/html": [
       "<div>\n",
       "<style scoped>\n",
       "    .dataframe tbody tr th:only-of-type {\n",
       "        vertical-align: middle;\n",
       "    }\n",
       "\n",
       "    .dataframe tbody tr th {\n",
       "        vertical-align: top;\n",
       "    }\n",
       "\n",
       "    .dataframe thead th {\n",
       "        text-align: right;\n",
       "    }\n",
       "</style>\n",
       "<table border=\"1\" class=\"dataframe\">\n",
       "  <thead>\n",
       "    <tr style=\"text-align: right;\">\n",
       "      <th></th>\n",
       "      <th>0</th>\n",
       "    </tr>\n",
       "  </thead>\n",
       "  <tbody>\n",
       "    <tr>\n",
       "      <th>0.025</th>\n",
       "      <td>-731.905031</td>\n",
       "    </tr>\n",
       "    <tr>\n",
       "      <th>0.975</th>\n",
       "      <td>71.527036</td>\n",
       "    </tr>\n",
       "  </tbody>\n",
       "</table>\n",
       "</div>"
      ],
      "text/plain": [
       "                0\n",
       "0.025 -731.905031\n",
       "0.975   71.527036"
      ]
     },
     "execution_count": 18,
     "metadata": {},
     "output_type": "execute_result"
    }
   ],
   "source": [
    "# Доверительный интервал для разницы средних значений двух выборок\n",
    "booted_data_dict['ci']"
   ]
  },
  {
   "cell_type": "code",
   "execution_count": 19,
   "metadata": {},
   "outputs": [
    {
     "data": {
      "text/plain": [
       "0.09654567394266392"
      ]
     },
     "execution_count": 19,
     "metadata": {},
     "output_type": "execute_result"
    }
   ],
   "source": [
    "# p-value\n",
    "booted_data_dict[\"p_value\"]"
   ]
  },
  {
   "cell_type": "markdown",
   "metadata": {},
   "source": [
    "**Вывод**: т.к. 0 входит в доверительный интервал для разницы средних значений двух выборок, а также p-value больше 0.05, то различие средних значений двух выборок является **статистически незначимым**"
   ]
  },
  {
   "cell_type": "markdown",
   "metadata": {},
   "source": [
    "#### b) Применяем bootstrap со статистикой np.median"
   ]
  },
  {
   "cell_type": "code",
   "execution_count": 20,
   "metadata": {},
   "outputs": [
    {
     "data": {
      "application/vnd.jupyter.widget-view+json": {
       "model_id": "ed5b898804bc40eeb0dec07e8c7043e1",
       "version_major": 2,
       "version_minor": 0
      },
      "text/plain": [
       "HBox(children=(FloatProgress(value=0.0, max=4000.0), HTML(value='')))"
      ]
     },
     "metadata": {},
     "output_type": "display_data"
    },
    {
     "name": "stdout",
     "output_type": "stream",
     "text": [
      "\n"
     ]
    },
    {
     "data": {
      "image/png": "[encoded data removed]",
      "text/plain": [
       "<Figure size 432x288 with 1 Axes>"
      ]
     },
     "metadata": {},
     "output_type": "display_data"
    }
   ],
   "source": [
    "# результат записываем в словарь: вектор разницы двух распределений, доверительный интервал и p-value\n",
    "\n",
    "booted_data_dict_2 = get_bootstrap(a_df_pu.revenue,  # revenue из группы \"a\"\n",
    "                                   b_df_pu.revenue,  # revenue из группы \"b\"\n",
    "                                   boot_it=4000,  # количество бутстрэп подвыборок\n",
    "                                   statistic=np.median,  # в данном варианте считаем статистику np.median\n",
    "                                   bootstrap_conf_level=0.95  # уровень значимости \n",
    "                                   )"
   ]
  },
  {
   "cell_type": "code",
   "execution_count": 21,
   "metadata": {},
   "outputs": [
    {
     "data": {
      "text/html": [
       "<div>\n",
       "<style scoped>\n",
       "    .dataframe tbody tr th:only-of-type {\n",
       "        vertical-align: middle;\n",
       "    }\n",
       "\n",
       "    .dataframe tbody tr th {\n",
       "        vertical-align: top;\n",
       "    }\n",
       "\n",
       "    .dataframe thead th {\n",
       "        text-align: right;\n",
       "    }\n",
       "</style>\n",
       "<table border=\"1\" class=\"dataframe\">\n",
       "  <thead>\n",
       "    <tr style=\"text-align: right;\">\n",
       "      <th></th>\n",
       "      <th>0</th>\n",
       "    </tr>\n",
       "  </thead>\n",
       "  <tbody>\n",
       "    <tr>\n",
       "      <th>0.025</th>\n",
       "      <td>-2759.5000</td>\n",
       "    </tr>\n",
       "    <tr>\n",
       "      <th>0.975</th>\n",
       "      <td>-2659.4875</td>\n",
       "    </tr>\n",
       "  </tbody>\n",
       "</table>\n",
       "</div>"
      ],
      "text/plain": [
       "               0\n",
       "0.025 -2759.5000\n",
       "0.975 -2659.4875"
      ]
     },
     "execution_count": 21,
     "metadata": {},
     "output_type": "execute_result"
    }
   ],
   "source": [
    "# Доверительный интервал для разницы медиан двух выборок\n",
    "booted_data_dict_2['ci']"
   ]
  },
  {
   "cell_type": "code",
   "execution_count": 22,
   "metadata": {},
   "outputs": [
    {
     "data": {
      "text/plain": [
       "0.0"
      ]
     },
     "execution_count": 22,
     "metadata": {},
     "output_type": "execute_result"
    }
   ],
   "source": [
    "# p-value\n",
    "booted_data_dict_2[\"p_value\"]"
   ]
  },
  {
   "cell_type": "markdown",
   "metadata": {},
   "source": [
    "**Вывод**: т.к. 0 не входит в доверительный интервал для разницы медиан двух выборок, а также p-value меньше 0.05, то различие медиан двух выборок является **статистически значимым**.\n",
    "\n",
    "В самом деле, значительная разница в медианах у двух групп видна даже без проверки стат. методами:"
   ]
  },
  {
   "cell_type": "code",
   "execution_count": 23,
   "metadata": {},
   "outputs": [
    {
     "data": {
      "text/plain": [
       "(311.0, 3022.0)"
      ]
     },
     "execution_count": 23,
     "metadata": {},
     "output_type": "execute_result"
    }
   ],
   "source": [
    "a_df_pu.revenue.median(), b_df_pu.revenue.median()"
   ]
  },
  {
   "cell_type": "markdown",
   "metadata": {},
   "source": [
    "#### Вывод:"
   ]
  },
  {
   "cell_type": "markdown",
   "metadata": {},
   "source": [
    "Средние значения revenue двух групп статистически не различаются, тогда как медианы различаются значительно. При сравнении медиан двух групп явное преимущество у набора предложений группы \"b\"."
   ]
  },
  {
   "cell_type": "markdown",
   "metadata": {},
   "source": [
    "#### Проверка значимости различий конверсии (CR) в покупку в группах:"
   ]
  },
  {
   "cell_type": "markdown",
   "metadata": {},
   "source": [
    "Также по имеющимся данным можно выяснить значимо ли различаются конверсии в покупку в двух группах."
   ]
  },
  {
   "cell_type": "code",
   "execution_count": 24,
   "metadata": {},
   "outputs": [
    {
     "data": {
      "text/html": [
       "<div>\n",
       "<style scoped>\n",
       "    .dataframe tbody tr th:only-of-type {\n",
       "        vertical-align: middle;\n",
       "    }\n",
       "\n",
       "    .dataframe tbody tr th {\n",
       "        vertical-align: top;\n",
       "    }\n",
       "\n",
       "    .dataframe thead th {\n",
       "        text-align: right;\n",
       "    }\n",
       "</style>\n",
       "<table border=\"1\" class=\"dataframe\">\n",
       "  <thead>\n",
       "    <tr style=\"text-align: right;\">\n",
       "      <th></th>\n",
       "      <th>testgroup</th>\n",
       "      <th>CR</th>\n",
       "    </tr>\n",
       "  </thead>\n",
       "  <tbody>\n",
       "    <tr>\n",
       "      <th>0</th>\n",
       "      <td>a</td>\n",
       "      <td>0.009540</td>\n",
       "    </tr>\n",
       "    <tr>\n",
       "      <th>1</th>\n",
       "      <td>b</td>\n",
       "      <td>0.008906</td>\n",
       "    </tr>\n",
       "  </tbody>\n",
       "</table>\n",
       "</div>"
      ],
      "text/plain": [
       "  testgroup        CR\n",
       "0         a  0.009540\n",
       "1         b  0.008906"
      ]
     },
     "execution_count": 24,
     "metadata": {},
     "output_type": "execute_result"
    }
   ],
   "source": [
    "# Посмотрим на значение конверсии в группах\n",
    "df.groupby('testgroup', as_index=False) \\\n",
    "  .agg({'revenue': lambda x: x[x != 0].count() / x.count()}) \\\n",
    "  .rename(columns={'revenue': 'CR'})"
   ]
  },
  {
   "cell_type": "markdown",
   "metadata": {},
   "source": [
    "Как видим, конверсии различаются на 7%. Проверим, являются ли данные различия стат. значимыми"
   ]
  },
  {
   "cell_type": "code",
   "execution_count": 25,
   "metadata": {
    "scrolled": true
   },
   "outputs": [
    {
     "data": {
      "application/vnd.jupyter.widget-view+json": {
       "model_id": "21bbe1a3c47342a480297db87736a0e6",
       "version_major": 2,
       "version_minor": 0
      },
      "text/plain": [
       "HBox(children=(FloatProgress(value=0.0, max=4000.0), HTML(value='')))"
      ]
     },
     "metadata": {},
     "output_type": "display_data"
    },
    {
     "name": "stdout",
     "output_type": "stream",
     "text": [
      "\n"
     ]
    },
    {
     "data": {
      "image/png": "[encoded data removed]",
      "text/plain": [
       "<Figure size 432x288 with 1 Axes>"
      ]
     },
     "metadata": {},
     "output_type": "display_data"
    }
   ],
   "source": [
    "# Применяем Bootstrap к данным\n",
    "\n",
    "booted_data_dict_3 = get_bootstrap(a_df.revenue,  # revenue из группы \"a\"\n",
    "                                   b_df.revenue,  # revenue из группы \"b\"\n",
    "                                   boot_it=4000,  # количество бутстрэп подвыборок\n",
    "                                   statistic=lambda x: np.count_nonzero(x) / len(x),  # Считаем метрику CR\n",
    "                                   bootstrap_conf_level=0.95  # уровень значимости \n",
    "                                   )"
   ]
  },
  {
   "cell_type": "code",
   "execution_count": 26,
   "metadata": {
    "scrolled": true
   },
   "outputs": [
    {
     "data": {
      "text/html": [
       "<div>\n",
       "<style scoped>\n",
       "    .dataframe tbody tr th:only-of-type {\n",
       "        vertical-align: middle;\n",
       "    }\n",
       "\n",
       "    .dataframe tbody tr th {\n",
       "        vertical-align: top;\n",
       "    }\n",
       "\n",
       "    .dataframe thead th {\n",
       "        text-align: right;\n",
       "    }\n",
       "</style>\n",
       "<table border=\"1\" class=\"dataframe\">\n",
       "  <thead>\n",
       "    <tr style=\"text-align: right;\">\n",
       "      <th></th>\n",
       "      <th>0</th>\n",
       "    </tr>\n",
       "  </thead>\n",
       "  <tbody>\n",
       "    <tr>\n",
       "      <th>0.025</th>\n",
       "      <td>0.000049</td>\n",
       "    </tr>\n",
       "    <tr>\n",
       "      <th>0.975</th>\n",
       "      <td>0.001219</td>\n",
       "    </tr>\n",
       "  </tbody>\n",
       "</table>\n",
       "</div>"
      ],
      "text/plain": [
       "              0\n",
       "0.025  0.000049\n",
       "0.975  0.001219"
      ]
     },
     "execution_count": 26,
     "metadata": {},
     "output_type": "execute_result"
    }
   ],
   "source": [
    "# Доверительный интервал для разницы конверсий двух выборок\n",
    "booted_data_dict_3['ci']"
   ]
  },
  {
   "cell_type": "code",
   "execution_count": 27,
   "metadata": {
    "scrolled": true
   },
   "outputs": [
    {
     "data": {
      "text/plain": [
       "0.03297144940343318"
      ]
     },
     "execution_count": 27,
     "metadata": {},
     "output_type": "execute_result"
    }
   ],
   "source": [
    "# p-value\n",
    "booted_data_dict_3[\"p_value\"]"
   ]
  },
  {
   "cell_type": "markdown",
   "metadata": {},
   "source": [
    "#### Вывод"
   ]
  },
  {
   "cell_type": "markdown",
   "metadata": {},
   "source": [
    "В результате проведенного теста оказалось, что конверсия в группах стат. значимо различается: в группе \"а\" конверсия выше чем в \"b\"."
   ]
  },
  {
   "cell_type": "markdown",
   "metadata": {},
   "source": [
    "### Общий вывод по задаче:"
   ]
  },
  {
   "cell_type": "markdown",
   "metadata": {},
   "source": [
    "В результате проведенных тестов выяснилось, что медианное значение revenue в группе \"b\" стат. значимо больше чем в группе \"а\" (причем значительно). В то же время конверсия в покупку оказалась стат. значимо выше в группе \"а\", чем в \"b\".\n",
    "\n",
    "В качестве итогового решения я бы принял набор предложений \"b\", т.к. на мой взгляд значительная разница в медианах между группами существеннее разницы в конверсии между группами (хоть и стат. значимой). \n",
    "\n",
    "Также в данном задании мы не можем проверить источник данных. Вполне вероятно, что слишком высокие значения revenue в группе \"а\" обусловлены ошибками при сборе данных.\n",
    "\n",
    "**Ответ**: набор предложений \"b\" является лучшим."
   ]
  },
  {
   "cell_type": "markdown",
   "metadata": {},
   "source": [
    "## Задание 3\n",
    "\n",
    "В игре Plants & Gardens каждый месяц проводятся тематические события, ограниченные по времени. В них игроки могут получить уникальные предметы для сада и персонажей, дополнительные монеты или бонусы. Для получения награды требуется пройти ряд уровней за определенное время. С помощью каких метрик можно оценить результаты последнего прошедшего события?\n",
    "\n",
    "Предположим, в другом событии мы усложнили механику событий так, что при каждой неудачной попытке выполнения уровня игрок будет откатываться на несколько уровней назад. Изменится ли набор метрик оценки результата? Если да, то как?"
   ]
  },
  {
   "cell_type": "markdown",
   "metadata": {},
   "source": [
    "**Сначала я бы обратил внимание на метрики трафика:**\n",
    "\n",
    "1) **avg. DAU** - средняя дневная аудитория ивента. Смотрим на среднее количество уникальных игроков в день, участвующих в ивенте. В качестве периода, за который берется среднее значение, необходимо взять продолжительность ивента.\n",
    "\n",
    "2) **EAU (Event Active Users**) - общая аудитория ивента на всем его протяжении.\n",
    "\n",
    "3) **Stickness ratio** = avg. DAU / EAU. Метрика \"прилипания\" к ивенту. Смотрим насколько часто пользователи участвуют в ивенте во время его проведения."
   ]
  },
  {
   "cell_type": "markdown",
   "metadata": {},
   "source": [
    "**Также важно отслеживать метрики конверсии (CR):**\n",
    "\n",
    "Можно предложить следующую цепочку конверсии: **регистрация в ивенте ---> участие в ивенте ---> прохождение уровня ---> получение награды**\n",
    "\n",
    "Конверсию необходимо отслеживать как на каждом шаге (чтобы видеть локальные провалы и работать с ними), так и абсолютно.\n",
    "\n",
    "Также можно смотреть конверсию внутри корзины **\"получение награды\"**, \n",
    "например **\"игроки заработавшие 1 приз\" --> \"игроки заработавшие 5 призов\" --> \"игроки заработавшие 10 призов\"** и т.д., чтобы видеть насколько далеко заходят игроки и на каком этапе они отваливаются (возможно на какой либо ступени слишком высокая сложность, какие-либо баги, либо призы уже не такие интересные и нет стимула двигаться дальше и т.д.)\n",
    "\n",
    "Также важно отслеживать **Конверсионное окно (Conversion Window)** - среднюю продолжительность цикла целевого действия, чтобы видеть насколько быстро пользователи переходят от одного участка воронки к другому."
   ]
  },
  {
   "cell_type": "markdown",
   "metadata": {},
   "source": [
    "**Также важно отслеживать показатель Retention**\n",
    "\n",
    "Пользователи делятся по когортам в зависимости от даты регистрации в ивенте и затем расчитывается **N-day Retention** для каждой когорты. Чтобы оценить общее удержание игроков в ивенте будем расчитывать **средневзвешенный N-day Retention**, чтобы учитывать различные размеры когорт пользователей.\n",
    "\n",
    "**Rolling-Retention** отслеживать не стоит, т.к ивенты непродолжительные (раз в месяц) и Rolling-Retention способен несколько исказить картину удержания игроков в данном случае. "
   ]
  },
  {
   "cell_type": "markdown",
   "metadata": {},
   "source": [
    "**Прочие метрики**\n",
    "\n",
    "**PSAT (player satisfaction score)** - с помощью этой метрики оценим общий уровень недовольства игроков ивентом. Выборочно будем проводить опросы с просьбой оценить ивент по шкале 1-10. Далее рассчитаем **PSAT** путем деления общего количества баллов на количество опрошенных игроков.\n",
    "\n",
    "$$ PSAT = \\cfrac{сумма\\ баллов\\ опрошенных\\ игроков}{количество\\ опрошенных\\ игроков} * 100\\% $$"
   ]
  },
  {
   "cell_type": "markdown",
   "metadata": {},
   "source": [
    "**Фактор виральности**:\n",
    "\n",
    "   **Внутриигровой** - привлекаем игроков из этой же игры поучаствовать в ивенте \\\n",
    "   **Внеигровой** - приглашаем новых игроков, которые не были зарегистрированы в игре до этого\n",
    "\n",
    "$$ К−фактор = X * Y * Z $$\n",
    "\n",
    "    X - процент игроков, которые пригласили новых игроков в ивент \\\n",
    "    Y - среднее число игроков, которое пригласил один игрок \\\n",
    "    Z - число игроков, которые приняли приглашение\n",
    "\n",
    "Данный коэффициент покажет нам насколько наш ивент нравится игрокам и насколько быстро распространяется информация о нем."
   ]
  },
  {
   "cell_type": "markdown",
   "metadata": {},
   "source": [
    "**ASL (average session length)** - средняя продолжительность сессии игроков в ивенте. Смотрим какова средняя длинна сессии игроков в ивенте."
   ]
  },
  {
   "cell_type": "markdown",
   "metadata": {},
   "source": [
    "**Кастомные метрики:** \n",
    "\n",
    "**Среднее количество пройденных уровней:**\n",
    "    $$ Среднее\\ количество\\ пройденных\\ уровней = \\cfrac{количество\\ уровней,\\ пройденных\\ всеми\\ игроками}{количество\\ игроков\\ участвовавших\\ в\\ ивенте} $$"
   ]
  },
  {
   "cell_type": "markdown",
   "metadata": {},
   "source": [
    "**Среднее количество полученных наград:**\n",
    "    $$ Среднее\\ количество\\ полученных\\ наград = \\cfrac{количество\\ наград,\\ полученных\\ всеми\\ игроками}{количество\\ игроков\\ участвовавших\\ в\\ ивенте} $$"
   ]
  },
  {
   "cell_type": "markdown",
   "metadata": {},
   "source": [
    "Данные кастомные метрики показывают уровень вовлеченности игроков в ивент."
   ]
  },
  {
   "cell_type": "markdown",
   "metadata": {},
   "source": [
    "#### Введение механики \"отката\" уровней"
   ]
  },
  {
   "cell_type": "markdown",
   "metadata": {},
   "source": [
    "Введение механики \"отката\" увеличит сложность получения наград и может привести как к повышению интереса игроков к ивенту, так и усилить отток (при значительном увеличении сложности). Поэтому очень важно найти баланс между повышением интереса к игре и оттоком игроков.\n",
    "\n",
    "Увеличение интереса к ивенту мы сможем отследить через метрики введенные выше (например ASL)\n",
    "\n",
    "Для контроля оттока введем следующие метрики:\n",
    "\n",
    "**Количество откатов** - сколько раз конкретный игрок откатился за время ивента\n",
    "\n",
    "**Churn** - так как в данном случае появляется сильный триггер оттока игроков в виде отката уровней (некоторые захотят уйти из ивента после n-откатов). На основе предыдущей метрики (**Количество откатов**) мы можем прогнозировать отток и сделать его оптимальным."
   ]
  },
  {
   "cell_type": "markdown",
   "metadata": {},
   "source": [
    "Также дополнительно я бы проводил выборочные опросы среди игроков \"Довольны ли вы введением новой механики в игру?\" и рассчитывал бы показатель удовлетворенности по формуле:\n",
    "\n",
    "$$ Удовлетворенность\\ механикой = \\cfrac{количество\\ ответов\\ \"да\"}{количество\\ опрошенных\\ игроков} * 100\\% $$"
   ]
  }
 ],
 "metadata": {
  "kernelspec": {
   "display_name": "Python 3",
   "language": "python",
   "name": "python3"
  },
  "language_info": {
   "codemirror_mode": {
    "name": "ipython",
    "version": 3
   },
   "file_extension": ".py",
   "mimetype": "text/x-python",
   "name": "python",
   "nbconvert_exporter": "python",
   "pygments_lexer": "ipython3",
   "version": "3.7.3"
  }
 },
 "nbformat": 4,
 "nbformat_minor": 4
}
